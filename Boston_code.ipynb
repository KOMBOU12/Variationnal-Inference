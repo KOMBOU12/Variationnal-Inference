{
 "cells": [
  {
   "cell_type": "code",
   "execution_count": 21,
   "id": "2f6cab49-c57d-4621-812c-3a18a1fe01de",
   "metadata": {
    "tags": []
   },
   "outputs": [
    {
     "data": {
      "text/plain": [
       "(array([62., 59., 54., 45., 44., 40., 22., 31., 26., 23., 21., 15., 16.,\n",
       "         7.,  1.,  9.,  4.,  2.,  4.,  3.,  1.,  3.,  0.,  0.,  3.,  2.,\n",
       "         2.,  1.,  1.,  0.,  1.,  0.,  0.,  1.,  0.,  0.,  0.,  0.,  0.,\n",
       "         0.,  0.,  0.,  0.,  0.,  0.,  1.,  0.,  0.,  1.,  1.]),\n",
       " array([2.68923755e-03, 5.27687633e-01, 1.05268603e+00, 1.57768442e+00,\n",
       "        2.10268282e+00, 2.62768121e+00, 3.15267961e+00, 3.67767801e+00,\n",
       "        4.20267640e+00, 4.72767480e+00, 5.25267319e+00, 5.77767159e+00,\n",
       "        6.30266998e+00, 6.82766838e+00, 7.35266677e+00, 7.87766517e+00,\n",
       "        8.40266356e+00, 8.92766196e+00, 9.45266036e+00, 9.97765875e+00,\n",
       "        1.05026571e+01, 1.10276555e+01, 1.15526539e+01, 1.20776523e+01,\n",
       "        1.26026507e+01, 1.31276491e+01, 1.36526475e+01, 1.41776459e+01,\n",
       "        1.47026443e+01, 1.52276427e+01, 1.57526411e+01, 1.62776395e+01,\n",
       "        1.68026379e+01, 1.73276363e+01, 1.78526347e+01, 1.83776331e+01,\n",
       "        1.89026315e+01, 1.94276299e+01, 1.99526283e+01, 2.04776267e+01,\n",
       "        2.10026251e+01, 2.15276235e+01, 2.20526218e+01, 2.25776202e+01,\n",
       "        2.31026186e+01, 2.36276170e+01, 2.41526154e+01, 2.46776138e+01,\n",
       "        2.52026122e+01, 2.57276106e+01, 2.62526090e+01]),\n",
       " <BarContainer object of 50 artists>)"
      ]
     },
     "execution_count": 21,
     "metadata": {},
     "output_type": "execute_result"
    },
    {
     "data": {
      "image/png": "[encoded data removed]",
      "text/plain": [
       "<Figure size 640x480 with 1 Axes>"
      ]
     },
     "metadata": {},
     "output_type": "display_data"
    }
   ],
   "source": [
    "from sklearn.linear_model import LinearRegression\n",
    "import matplotlib.pyplot as plt\n",
    "import pandas as pd\n",
    "import numpy as np\n",
    "\n",
    "df = pd.read_csv('Boston.csv')\n",
    "df= df.drop('Unnamed: 0', axis=1)\n",
    "X= df.drop('medv', axis =1)\n",
    "y= df['medv']\n",
    "\n",
    "model = LinearRegression()\n",
    "model.fit(X,y)\n",
    "y_pred = model.predict(X)\n",
    "\n",
    "err_hist = np.abs(y - y_pred)\n",
    "\n",
    "#plt.figure(figsize=(20, 5))\n",
    "plt.hist(err_hist, bins =50)\n"
   ]
  },
  {
   "cell_type": "code",
   "execution_count": 35,
   "id": "12cc80fa-f7cb-4d64-bb69-75e58f37f7dc",
   "metadata": {},
   "outputs": [],
   "source": [
    "np.random.seed(0)\n",
    "\n",
    "m=100\n",
    "X = np.linspace(0, 4, m).reshape((m,1))\n",
    "y = 2 + X**1.3 + np.random.randn(m, 1)\n",
    "y = y.ravel()"
   ]
  },
  {
   "cell_type": "code",
   "execution_count": 38,
   "id": "08203ef1-50e5-4253-b903-a4c16191b400",
   "metadata": {
    "tags": []
   },
   "outputs": [
    {
     "data": {
      "text/plain": [
       "100"
      ]
     },
     "execution_count": 38,
     "metadata": {},
     "output_type": "execute_result"
    }
   ],
   "source": [
    "y.size"
   ]
  },
  {
   "cell_type": "code",
   "execution_count": null,
   "id": "9ce91359-6988-42f1-bf97-2e25f046eeca",
   "metadata": {},
   "outputs": [],
   "source": []
  }
 ],
 "metadata": {
  "kernelspec": {
   "display_name": "Python 3 (ipykernel)",
   "language": "python",
   "name": "python3"
  },
  "language_info": {
   "codemirror_mode": {
    "name": "ipython",
    "version": 3
   },
   "file_extension": ".py",
   "mimetype": "text/x-python",
   "name": "python",
   "nbconvert_exporter": "python",
   "pygments_lexer": "ipython3",
   "version": "3.11.5"
  }
 },
 "nbformat": 4,
 "nbformat_minor": 5
}
