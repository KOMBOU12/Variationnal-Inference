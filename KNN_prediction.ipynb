{
 "cells": [
  {
   "cell_type": "code",
   "execution_count": 4,
   "id": "cb350a68-89ff-425a-990a-33e4fd8d98d8",
   "metadata": {},
   "outputs": [
    {
     "name": "stdout",
     "output_type": "stream",
     "text": [
      "Distance between Test point (0, 0, 0) and point 1: 3.00\n",
      "Distance between Test point (0, 0, 0) and point 2: 2.00\n",
      "Distance between Test point (0, 0, 0) and point 3: 3.16\n",
      "Distance between Test point (0, 0, 0) and point 4: 2.24\n",
      "Distance between Test point (0, 0, 0) and point 5: 1.41\n",
      "Distance between Test point (0, 0, 0) and point 6: 1.73\n"
     ]
    }
   ],
   "source": [
    "import pandas as pd\n",
    "# Creating the DataFrame\n",
    "df = pd.DataFrame({'X_1':[0, 2, 0, 0, -1, 1],\n",
    "'X_2':[3, 0, 1, 1, 0, 1],\n",
    "'X_3':[0, 0, 3, 2, 1, 1],\n",
    " 'Y':[\"Red\", \"Red\", \"Red\", \"Green\", \"Green\", \"Red\"]} )\n",
    "X1 = df[\"X_1\"].values\n",
    "X2 = df[\"X_2\"].values\n",
    "X3 = df[\"X_3\"].values\n",
    "\n",
    "# Euclidean distance between each observation and and the test point X_1=X_2=X_3=0\n",
    "from math import sqrt\n",
    "import numpy as np \n",
    "import math\n",
    "\n",
    "# Function to compute Euclidean distance between two 3D points\n",
    "def euclidean_distance(point1, point2):\n",
    "    return math.sqrt((point1[0] - point2[0]) ** 2 + \n",
    "                     (point1[1] - point2[1]) ** 2 + \n",
    "                     (point1[2] - point2[2]) ** 2)\n",
    "\n",
    "# Define the coordinates of the test point X_1=X_2=X_3=0\n",
    "X_test = np.array([0, 0, 0])\n",
    "\n",
    "# Define the coordinates of six other points in 3D\n",
    "points = [(0, 3, 0), (2, 0, 0), (0, 1, 3), (0, 1, 2), (-1, 0, 1), (1, 1, 1)]\n",
    "\n",
    "# Calculate and print the Euclidean distance between the reference point and each of the six other points\n",
    "for i, point in enumerate(points):\n",
    "    distance = euclidean_distance(X_test, point)\n",
    "    print(f\"Distance between Test point (0, 0, 0) and point {i+1}: {distance:.2f}\")\n",
    "\n",
    "\n"
   ]
  },
  {
   "cell_type": "code",
   "execution_count": 5,
   "id": "6e3e6682-a0f3-44d4-a7a4-9c7022e3ab30",
   "metadata": {},
   "outputs": [
    {
     "name": "stdout",
     "output_type": "stream",
     "text": [
      "(6, 3) (6,)\n",
      "(1, 3)\n",
      "Predictions: ['Red'] \n"
     ]
    }
   ],
   "source": [
    "# Prediction with K= 1\n",
    "from sklearn.neighbors import KNeighborsClassifier\n",
    "X = df[[\"X_1\",\"X_2\",\"X_3\"]].values\n",
    "y = df[\"Y\"].values\n",
    "print(X.shape, y.shape)\n",
    "knn = KNeighborsClassifier(n_neighbors = 3)\n",
    "knn.fit(X,y)\n",
    "X_test1 = np.array([[0, 0, 0]])\n",
    "print(X_test1.shape)\n",
    "predictions = knn.predict(X_test1)\n",
    "print(\"Predictions: {} \".format(predictions))"
   ]
  },
  {
   "cell_type": "code",
   "execution_count": null,
   "id": "60857f0e-03f0-4e6b-b2bd-b0ac52c34e22",
   "metadata": {},
   "outputs": [],
   "source": []
  }
 ],
 "metadata": {
  "kernelspec": {
   "display_name": "Python 3 (ipykernel)",
   "language": "python",
   "name": "python3"
  },
  "language_info": {
   "codemirror_mode": {
    "name": "ipython",
    "version": 3
   },
   "file_extension": ".py",
   "mimetype": "text/x-python",
   "name": "python",
   "nbconvert_exporter": "python",
   "pygments_lexer": "ipython3",
   "version": "3.11.5"
  }
 },
 "nbformat": 4,
 "nbformat_minor": 5
}
